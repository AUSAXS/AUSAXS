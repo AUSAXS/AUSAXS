{
 "cells": [
  {
   "cell_type": "code",
   "execution_count": 1,
   "metadata": {},
   "outputs": [
    {
     "ename": "OSError",
     "evalue": "../figures/fit_consistency2/SASDE35_10/SASDE35/out.txt not found.",
     "output_type": "error",
     "traceback": [
      "\u001b[0;31m---------------------------------------------------------------------------\u001b[0m",
      "\u001b[0;31mOSError\u001b[0m                                   Traceback (most recent call last)",
      "Cell \u001b[0;32mIn [1], line 10\u001b[0m\n\u001b[1;32m      7\u001b[0m files \u001b[39m=\u001b[39m [\u001b[39m\"\u001b[39m\u001b[39m../figures/fit_consistency2/SAS\u001b[39m\u001b[39m\"\u001b[39m \u001b[39m+\u001b[39m name \u001b[39m+\u001b[39m \u001b[39m\"\u001b[39m\u001b[39m_10/SAS\u001b[39m\u001b[39m\"\u001b[39m \u001b[39m+\u001b[39m name \u001b[39m+\u001b[39m \u001b[39m\"\u001b[39m\u001b[39m/out.txt\u001b[39m\u001b[39m\"\u001b[39m \u001b[39mfor\u001b[39;00m name \u001b[39min\u001b[39;00m titles]\n\u001b[1;32m      9\u001b[0m \u001b[39mfor\u001b[39;00m file, name \u001b[39min\u001b[39;00m \u001b[39mzip\u001b[39m(files, titles):\n\u001b[0;32m---> 10\u001b[0m     data \u001b[39m=\u001b[39m np\u001b[39m.\u001b[39;49mloadtxt(file, skiprows\u001b[39m=\u001b[39;49m\u001b[39m2\u001b[39;49m)\n\u001b[1;32m     11\u001b[0m     ddof \u001b[39m=\u001b[39m data[:, \u001b[39m0\u001b[39m]\n\u001b[1;32m     12\u001b[0m     dchi2_struct \u001b[39m=\u001b[39m data[:, \u001b[39m1\u001b[39m]\n",
      "File \u001b[0;32m/usr/lib/python3/dist-packages/numpy/lib/npyio.py:1067\u001b[0m, in \u001b[0;36mloadtxt\u001b[0;34m(fname, dtype, comments, delimiter, converters, skiprows, usecols, unpack, ndmin, encoding, max_rows, like)\u001b[0m\n\u001b[1;32m   1065\u001b[0m     fname \u001b[39m=\u001b[39m os_fspath(fname)\n\u001b[1;32m   1066\u001b[0m \u001b[39mif\u001b[39;00m _is_string_like(fname):\n\u001b[0;32m-> 1067\u001b[0m     fh \u001b[39m=\u001b[39m np\u001b[39m.\u001b[39;49mlib\u001b[39m.\u001b[39;49m_datasource\u001b[39m.\u001b[39;49mopen(fname, \u001b[39m'\u001b[39;49m\u001b[39mrt\u001b[39;49m\u001b[39m'\u001b[39;49m, encoding\u001b[39m=\u001b[39;49mencoding)\n\u001b[1;32m   1068\u001b[0m     fencoding \u001b[39m=\u001b[39m \u001b[39mgetattr\u001b[39m(fh, \u001b[39m'\u001b[39m\u001b[39mencoding\u001b[39m\u001b[39m'\u001b[39m, \u001b[39m'\u001b[39m\u001b[39mlatin1\u001b[39m\u001b[39m'\u001b[39m)\n\u001b[1;32m   1069\u001b[0m     fh \u001b[39m=\u001b[39m \u001b[39miter\u001b[39m(fh)\n",
      "File \u001b[0;32m/usr/lib/python3/dist-packages/numpy/lib/_datasource.py:193\u001b[0m, in \u001b[0;36mopen\u001b[0;34m(path, mode, destpath, encoding, newline)\u001b[0m\n\u001b[1;32m    156\u001b[0m \u001b[39m\"\"\"\u001b[39;00m\n\u001b[1;32m    157\u001b[0m \u001b[39mOpen `path` with `mode` and return the file object.\u001b[39;00m\n\u001b[1;32m    158\u001b[0m \n\u001b[0;32m   (...)\u001b[0m\n\u001b[1;32m    189\u001b[0m \n\u001b[1;32m    190\u001b[0m \u001b[39m\"\"\"\u001b[39;00m\n\u001b[1;32m    192\u001b[0m ds \u001b[39m=\u001b[39m DataSource(destpath)\n\u001b[0;32m--> 193\u001b[0m \u001b[39mreturn\u001b[39;00m ds\u001b[39m.\u001b[39;49mopen(path, mode, encoding\u001b[39m=\u001b[39;49mencoding, newline\u001b[39m=\u001b[39;49mnewline)\n",
      "File \u001b[0;32m/usr/lib/python3/dist-packages/numpy/lib/_datasource.py:533\u001b[0m, in \u001b[0;36mDataSource.open\u001b[0;34m(self, path, mode, encoding, newline)\u001b[0m\n\u001b[1;32m    530\u001b[0m     \u001b[39mreturn\u001b[39;00m _file_openers[ext](found, mode\u001b[39m=\u001b[39mmode,\n\u001b[1;32m    531\u001b[0m                               encoding\u001b[39m=\u001b[39mencoding, newline\u001b[39m=\u001b[39mnewline)\n\u001b[1;32m    532\u001b[0m \u001b[39melse\u001b[39;00m:\n\u001b[0;32m--> 533\u001b[0m     \u001b[39mraise\u001b[39;00m \u001b[39mIOError\u001b[39;00m(\u001b[39m\"\u001b[39m\u001b[39m%s\u001b[39;00m\u001b[39m not found.\u001b[39m\u001b[39m\"\u001b[39m \u001b[39m%\u001b[39m path)\n",
      "\u001b[0;31mOSError\u001b[0m: ../figures/fit_consistency2/SASDE35_10/SASDE35/out.txt not found."
     ]
    }
   ],
   "source": [
    "import numpy as np\n",
    "import matplotlib.pyplot as plt\n",
    "from scipy.stats import chi2, norm\n",
    "from scipy.optimize import curve_fit\n",
    "\n",
    "titles = [\"DE35\", \"DE45\", \"DE65\", \"DEY4\", \"DEZ4\", \"DGX9\", \"DHK4\", \"DJA4\", \"DJF5\", \"DJY3\", \"DL82\", \"DLT3\"]\n",
    "files = [\"../figures/fit_consistency2/SAS\" + name + \"_10/SAS\" + name + \"/out.txt\" for name in titles]\n",
    "\n",
    "for file, name in zip(files, titles):\n",
    "    data = np.loadtxt(file, skiprows=2)\n",
    "    ddof = data[:, 0]\n",
    "    dchi2_struct = data[:, 1]\n",
    "    dchi2_map = data[:, 2]\n",
    "    dcutoff = data[:, 2]\n",
    "\n",
    "    ### plot chi2_struct ###\n",
    "    fig, ax = plt.subplots(1, 2, figsize=(16, 6))\n",
    "    plt.suptitle(name, fontsize=16, fontweight=\"bold\")\n",
    "    plt.sca(ax[0])\n",
    "    n, bins, _ = plt.hist(dchi2_struct, bins=10, density=True)\n",
    "    plt.xlabel(\"$\\chi^2$\")\n",
    "    plt.ylabel(\"Density\")\n",
    "    plt.ticklabel_format(axis=\"y\", style=\"sci\", scilimits=(0, 0))\n",
    "\n",
    "    ### plot chi2 distribution ###\n",
    "    # check if all ddof are identical\n",
    "    if not np.all(ddof == ddof[0]):\n",
    "        print(\"Warning: number of degrees of freedom are not identical for each measurement.\")\n",
    "\n",
    "    x = np.linspace(bins[0], bins[-1], 100)\n",
    "    plt.plot(x, chi2.pdf(x, df=ddof[0]), \"r-\", label=\"Expected $\\chi^2$ distribution\")\n",
    "\n",
    "    # fit chi2\n",
    "    popt, _ = curve_fit(lambda x, df: chi2.pdf(x, df=df), bins[:-1], n)\n",
    "    plt.plot(chi2.pdf(x, ddof=popt[0]), \"r--\", label=\"Fitted $\\chi^2$ distribution\")\n",
    "\n",
    "    plt.legend()\n",
    "\n",
    "    ### plot chi2_map ###\n",
    "    plt.sca(ax[1])\n",
    "    dchi2_map = dchi2_map/ddof[0]\n",
    "    n, bins, _ = plt.hist(dchi2_map, bins=10, density=True)\n",
    "    plt.xlabel(\"$\\chi^2$\")\n",
    "    plt.ylabel(\"Density\")\n",
    "    plt.ticklabel_format(axis=\"y\", style=\"sci\", scilimits=(0, 0))\n",
    "\n",
    "    ### plot gaussian distribution ###\n",
    "    x = np.linspace(bins[0], bins[-1], 100)\n",
    "    mean = np.mean(dchi2_map)\n",
    "    plt.plot(x, norm.pdf(x, loc=mean, scale=np.std(dchi2_map)), \"r-\", label=\"Gaussian distribution\")\n",
    "    plt.axvline(mean, color=\"r\", linestyle=\"--\")\n",
    "    plt.legend()\n",
    "    print(f\"{name}: {mean:.3f} +/- {np.std(dchi2_map):.3f}\")\n",
    "\n",
    "    plt.savefig(\"../figures/fit_consistency2/SAS\" + name + \"_10/SAS\" + name + \"/fig.png\")\n",
    "plt.show()"
   ]
  },
  {
   "cell_type": "code",
   "execution_count": null,
   "metadata": {},
   "outputs": [],
   "source": []
  }
 ],
 "metadata": {
  "kernelspec": {
   "display_name": "Python 3.8.10 64-bit",
   "language": "python",
   "name": "python3"
  },
  "language_info": {
   "codemirror_mode": {
    "name": "ipython",
    "version": 3
   },
   "file_extension": ".py",
   "mimetype": "text/x-python",
   "name": "python",
   "nbconvert_exporter": "python",
   "pygments_lexer": "ipython3",
   "version": "3.10.6"
  },
  "orig_nbformat": 4,
  "vscode": {
   "interpreter": {
    "hash": "31f2aee4e71d21fbe5cf8b01ff0e069b9275f58929596ceb00d14d90e3e16cd6"
   }
  }
 },
 "nbformat": 4,
 "nbformat_minor": 2
}
